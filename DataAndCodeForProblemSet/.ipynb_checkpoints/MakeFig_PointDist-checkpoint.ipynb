{
 "cells": [
  {
   "cell_type": "markdown",
   "metadata": {},
   "source": [
    "### Script for making point distribution for Applied Statistics 2023 Problem Set:\n",
    "\n",
    "\n",
    "####  Author: \n",
    "- Troels Petersen (Niels Bohr Institute, petersen@nbi.dk)\n",
    "\n",
    "####  Date:   \n",
    " - 14th of January 2024 (latest version)"
   ]
  },
  {
   "cell_type": "code",
   "execution_count": null,
   "metadata": {},
   "outputs": [],
   "source": [
    "import matplotlib as plt"
   ]
  },
  {
   "cell_type": "code",
   "execution_count": null,
   "metadata": {},
   "outputs": [],
   "source": [
    "Points = np.array([0, 93.5, 0, 70, 85, 40.5, 93.5, 75, 0, 0, 90, 88, 0, 56, 82.5, 0, 0, 75, 85.5, 0, 58.5, 88.5, 32, 85.5, 55.5, 93, 77.5, 44.5, 0, 70.5, 46.5, 79, 71.5, 0, 0, 0, 95.5, 0, 90.5, 0, 60, 73, 83, 55, 23, 0, 44, 84, 74, 0, 74.5, 65.5, 0, 90.5, 86.5, 83.5, 86.5, 60, 83, 92, 84, 16.5, 86, 67, 86.5, 0, 71, 0, 0, 71, 0, 0, 0, 87.5, 0, 0, 78, 40, 0, 0, 79.5, 0, 0, 86.5, 67, 0, 81.5, 54, 0, 47, 2, 0, 49.5, 79.5, 80.5, 72, 0, 0, 0, 0, 95, 66.5, 0, 75, 86.5, 99, 0, 70.5, 81.5, 59, 60.5, 73, 74.5, 78, 72, 55, 93, 52, 84, 70.5, 40.5, 81, 68, 76, 91.5, 53.5, 53.5, 87, 69, 59, 68])\n",
    "\n"
   ]
  }
 ],
 "metadata": {
  "executable": "/usr/bin/env python",
  "kernelspec": {
   "display_name": "Python 3 (ipykernel)",
   "language": "python",
   "name": "python3"
  },
  "language_info": {
   "codemirror_mode": {
    "name": "ipython",
    "version": 3
   },
   "file_extension": ".py",
   "mimetype": "text/x-python",
   "name": "python",
   "nbconvert_exporter": "python",
   "pygments_lexer": "ipython3",
   "version": "3.10.13"
  },
  "main_language": "python"
 },
 "nbformat": 4,
 "nbformat_minor": 4
}
