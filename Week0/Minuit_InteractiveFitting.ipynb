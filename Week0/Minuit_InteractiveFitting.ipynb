{
 "cells": [
  {
   "cell_type": "markdown",
   "id": "54cd244b-cb93-48c8-a9bd-8c334fc66a3d",
   "metadata": {},
   "source": [
    "# Interactive fitting with Minuit\n",
    "\n",
    "The following script is an illustration of fitting, where it is possible to alter the fitting parameters interactively.\n",
    "\n",
    "Adapted from iMinuit documentation and examples: https://scikit-hep.org/iminuit/\n",
    "\n",
    "### Authors: \n",
    "- Malthe Nordentoft (Niels Bohr Institute)\n",
    "- Troels C. Petersen (Niels Bohr Institute)\n",
    "\n",
    "### Date:    \n",
    "- 09-11-2024 (latest update)"
   ]
  },
  {
   "cell_type": "code",
   "execution_count": 1,
   "id": "d7120c8f-57c9-4014-bce4-e4a2f287be66",
   "metadata": {},
   "outputs": [],
   "source": [
    "import numpy as np\n",
    "from matplotlib import pyplot as plt\n",
    "from scipy import stats\n",
    "from iminuit import Minuit, cost"
   ]
  },
  {
   "cell_type": "code",
   "execution_count": 2,
   "id": "a7c3c556-4434-4f5d-b56b-bb65195241b8",
   "metadata": {},
   "outputs": [
    {
     "name": "stdout",
     "output_type": "stream",
     "text": [
      "Number of non-empty bins: 82\n"
     ]
    }
   ],
   "source": [
    "# Generate the data, which consists of two overlapping Gaussians:\n",
    "data = np.hstack([np.random.randn(1000)*1.1, np.random.randn(1000)*0.6+3.1])\n",
    "\n",
    "# Bin the data in order to draw it:\n",
    "Nbins = 100\n",
    "xmin, xmax = -4.0, 6.0\n",
    "binwidth = (xmax-xmin) / Nbins\n",
    "freq, bins = np.histogram(data, bins = np.linspace(xmin, xmax, Nbins))\n",
    "bins = (bins[1:] + bins[:-1])/2\n",
    "freq_err = np.sqrt(freq)\n",
    "\n",
    "# For ChiSquare fitting:\n",
    "x = bins[freq > 0]\n",
    "y = freq[freq>0]\n",
    "sy = freq_err[freq >0]\n",
    "print(\"Number of non-empty bins:\", len(x))"
   ]
  },
  {
   "cell_type": "code",
   "execution_count": 3,
   "id": "762ec0ab-b9c8-4da4-98fa-8ae4328d7f73",
   "metadata": {},
   "outputs": [],
   "source": [
    "# Fitting functions:\n",
    "def double_gaussian(x, N, mu1, mu2, sigma1, sigma2, f):\n",
    "    return N * binwidth * (f*stats.norm.pdf(x, mu1, sigma1) + (1-f)*stats.norm.pdf(x, mu2, sigma2))"
   ]
  },
  {
   "cell_type": "code",
   "execution_count": 4,
   "id": "16089b05-55b9-4b21-9029-a5bda59eeb14",
   "metadata": {},
   "outputs": [],
   "source": [
    "# ChiSquare fit (of course binned):\n",
    "c = cost.LeastSquares(x, y, sy, double_gaussian)\n",
    "\n",
    "# Unbinned likelihood fit:\n",
    "#c = cost.UnbinnedNLL(data, double_gaussian)\n",
    "#binwidth = 1.0\n",
    "\n",
    "# Set the initial values (very important) and the allowed parameter ranges (for widget):\n",
    "m = Minuit(c, N = 1000, mu1 = 0, mu2 = 4, sigma1 = 1.0, sigma2 = 0.5, f = 0.5)\n",
    "m.limits[\"N\"] = (0, 5000)\n",
    "m.limits[\"mu1\", \"mu2\"] = (-10, 10)\n",
    "m.limits[\"sigma1\", \"sigma2\"] = (0.01, 3)\n",
    "m.limits[\"f\"] = (0, 1)"
   ]
  },
  {
   "cell_type": "code",
   "execution_count": 5,
   "id": "b158d485-d893-482b-aa03-f1dfcdb9db53",
   "metadata": {},
   "outputs": [
    {
     "data": {
      "application/vnd.jupyter.widget-view+json": {
       "model_id": "d008d233b390473cbe298f9976639fcf",
       "version_major": 2,
       "version_minor": 0
      },
      "text/plain": [
       "HBox(children=(Output(), VBox(children=(HBox(children=(Button(button_style='primary', description='Fit', layou…"
      ]
     },
     "execution_count": 5,
     "metadata": {},
     "output_type": "execute_result"
    }
   ],
   "source": [
    "m.interactive()"
   ]
  }
 ],
 "metadata": {
  "kernelspec": {
   "display_name": "Python 3 (ipykernel)",
   "language": "python",
   "name": "python3"
  },
  "language_info": {
   "codemirror_mode": {
    "name": "ipython",
    "version": 3
   },
   "file_extension": ".py",
   "mimetype": "text/x-python",
   "name": "python",
   "nbconvert_exporter": "python",
   "pygments_lexer": "ipython3",
   "version": "3.13.0"
  }
 },
 "nbformat": 4,
 "nbformat_minor": 5
}
