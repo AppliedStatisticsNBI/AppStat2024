{
 "cells": [
  {
   "cell_type": "markdown",
   "metadata": {
    "slideshow": {
     "slide_type": "slide"
    }
   },
   "source": [
    "# The ChiSquare \"Miracle\"\n",
    "\n",
    "This is an illustration of how the ChiSquare minimum (and hence Minuit) obtains uncertainties on the estimates (in fact a full covariance matrix between fitting parameters).\n",
    "\n",
    "Converted to (scrollable) html-slides as follows:<br>\n",
    "  jupyter nbconvert --to slides --SlidesExporter.reveal_scroll=True TheChiSquareMiracle_original.ipynb\n",
    "\n",
    "***\n",
    "\n",
    "### Authors: \n",
    "- Troels C. Petersen (Niels Bohr Institute)\n",
    "\n",
    "### Date:    \n",
    "- 14-11-2024 (latest update)"
   ]
  },
  {
   "cell_type": "code",
   "execution_count": null,
   "metadata": {
    "slideshow": {
     "slide_type": "slide"
    }
   },
   "outputs": [],
   "source": [
    "import numpy as np\n",
    "import matplotlib.pyplot as plt\n",
    "from scipy import stats\n",
    "from iminuit import Minuit\n",
    "from iminuit.cost import LeastSquares"
   ]
  },
  {
   "cell_type": "markdown",
   "metadata": {
    "slideshow": {
     "slide_type": "slide"
    }
   },
   "source": [
    "## Generating and plotting data:"
   ]
  },
  {
   "cell_type": "code",
   "execution_count": null,
   "metadata": {
    "slideshow": {
     "slide_type": "fragment"
    }
   },
   "outputs": [],
   "source": [
    "r = np.random # Random generator\n",
    "r.seed(42)    # Set a random seed (but a fixed one)\n",
    "\n",
    "Npoints = 10000     # Number of random points produced\n",
    "x_all = r.normal(loc=-0.7, scale=1.1, size=Npoints)\n",
    "\n",
    "Nbins = 100\n",
    "xmin, xmax = -5, 5\n",
    "binwidth = (xmax-xmin)/Nbins"
   ]
  },
  {
   "cell_type": "code",
   "execution_count": null,
   "metadata": {
    "slideshow": {
     "slide_type": "subslide"
    }
   },
   "outputs": [],
   "source": [
    "fig, ax = plt.subplots(figsize=(14, 6))\n",
    "hist = ax.hist(x_all, bins=Nbins, range=(xmin, xmax), histtype='step', linewidth=2, color='blue', label='Data')\n",
    "ax.set(xlabel=\"Value\", ylabel=\"Frequency\", title=\"\")\n",
    "ax.legend(loc='upper left', fontsize=20);"
   ]
  },
  {
   "cell_type": "markdown",
   "metadata": {
    "slideshow": {
     "slide_type": "slide"
    }
   },
   "source": [
    "## Fitting data:"
   ]
  },
  {
   "cell_type": "code",
   "execution_count": null,
   "metadata": {
    "slideshow": {
     "slide_type": "fragment"
    }
   },
   "outputs": [],
   "source": [
    "# Minuit.print_level = 1      # Printing result of the fit\n",
    "\n",
    "# Define Gaussian PDF:\n",
    "def func_gauss(x, N, mu, sigma):\n",
    "    z = (x - mu) / sigma\n",
    "    return N * binwidth / np.sqrt(2 * np.pi) / sigma * np.exp(-0.5 * z**2)\n",
    "\n",
    "# Turning histogram data into x, y, and sigma_y values\n",
    "# for all non-zero entries (not considered in Chi2 fit):\n",
    "counts, bin_edges = np.histogram(x_all, bins=Nbins, range=(xmin, xmax), density=False)\n",
    "x = 0.5*(bin_edges[:-1] + bin_edges[1:])[counts>0]\n",
    "y = counts[counts>0]\n",
    "sy = np.sqrt(y)            # We'll talk more about this choice in the course!"
   ]
  },
  {
   "cell_type": "code",
   "execution_count": null,
   "metadata": {
    "slideshow": {
     "slide_type": "subslide"
    }
   },
   "outputs": [],
   "source": [
    "least_squares = LeastSquares(x, y, sy, func_gauss)         # Defines the ChiSquare fit\n",
    "mfit = Minuit(least_squares, N=1000, mu=0.0, sigma=1.0)    # Defines the Minuit object \"mfit\" and starting values\n",
    "mfit.migrad()                                              # Finds minimum of least_squares function (i.e. fits!)\n",
    "mfit.hesse()                                               # Accurately computes uncertainties"
   ]
  },
  {
   "cell_type": "code",
   "execution_count": null,
   "metadata": {
    "slideshow": {
     "slide_type": "slide"
    }
   },
   "outputs": [],
   "source": [
    "# Print fit result (Notice: Incorrect number of decimals!):\n",
    "for name in mfit.parameters :\n",
    "    value, error = mfit.values[name], mfit.errors[name]\n",
    "    print(f\"Fit value: {name} = {value:.4f} +/- {error:.4f}\")\n",
    "\n",
    "Chi2 = mfit.fval           # The minimisation (here Chi2) value\n",
    "Ndof = len(x) - len(mfit.values[:])\n",
    "Prob = stats.chi2.sf(Chi2, Ndof)\n",
    "print(f\"\\nProb(Chi2 = {Chi2:.1f}, Ndof = {Ndof:d}) = {Prob:6.4f}\")"
   ]
  },
  {
   "cell_type": "code",
   "execution_count": null,
   "metadata": {
    "slideshow": {
     "slide_type": "subslide"
    }
   },
   "outputs": [],
   "source": [
    "# Produce the points for drawing the fit:\n",
    "x_fit = np.linspace(xmin, xmax, 500)\n",
    "y_fit = func_gauss(x_fit, mfit.values[0], mfit.values[1], mfit.values[2])"
   ]
  },
  {
   "cell_type": "code",
   "execution_count": null,
   "metadata": {
    "slideshow": {
     "slide_type": "subslide"
    }
   },
   "outputs": [],
   "source": [
    "# Produce figure with histogram (with error bars) and fit overlayed:\n",
    "fig2, ax2 = plt.subplots(figsize=(14, 6))\n",
    "ax2.errorbar(x, y, sy, fmt='.', color='blue', label='Data')\n",
    "ax2.plot(x_fit, y_fit, '-', color='red', label='Fit')\n",
    "ax2.set(xlabel=\"Value\", ylabel=\"Frequency\", title=\"\")\n",
    "ax2.legend(loc='upper left', fontsize=24)\n",
    "\n",
    "# Produce a nice writeup of the fitting result in the figure:\n",
    "fit_info = [f\"$\\\\chi^2$ / $N_\\\\mathrm{{dof}}$ = {Chi2:.1f} / {Ndof}\", f\"Prob($\\\\chi^2$, $N_\\\\mathrm{{dof}}$) = {Prob:.3f}\",]\n",
    "for p, v, e in zip(mfit.parameters, mfit.values[:], mfit.errors[:]) :\n",
    "    Ndecimals = max(0,-np.int32(np.log10(e)-1-np.log10(2)))                                # Number of significant digits\n",
    "    fit_info.append(f\"{p} = ${v:{10}.{Ndecimals}{\"f\"}} \\\\pm {e:{10}.{Ndecimals}{\"f\"}}$\")\n",
    "plt.legend(title=\"\\n\".join(fit_info), fontsize=18, title_fontsize = 18, alignment = 'center')\n",
    "\n",
    "fig2.tight_layout()"
   ]
  },
  {
   "cell_type": "markdown",
   "metadata": {
    "slideshow": {
     "slide_type": "slide"
    }
   },
   "source": [
    "## How does Minuit determine the uncertainties?"
   ]
  },
  {
   "cell_type": "code",
   "execution_count": null,
   "metadata": {
    "slideshow": {
     "slide_type": "fragment"
    }
   },
   "outputs": [],
   "source": [
    "# Comparing fit result to the non-fit estimate of the mean and its uncertainty:\n",
    "mu = np.mean(x_all)\n",
    "error_mu = np.std(x_all) / np.sqrt(len(x_all))\n",
    "print(f\"The mean of x_all was = {mu:.3f} +- {error_mu:.3f}\")\n",
    "print(f\"Sigma(mean) from the CALCULATION is:   {error_mu:.5f}\")"
   ]
  },
  {
   "cell_type": "code",
   "execution_count": null,
   "metadata": {
    "slideshow": {
     "slide_type": "fragment"
    }
   },
   "outputs": [],
   "source": [
    "print(f\"Sigma(mean) from the CHISQUARE FIT is: {mfit.errors[1]:.5f}\")"
   ]
  },
  {
   "cell_type": "code",
   "execution_count": null,
   "metadata": {
    "slideshow": {
     "slide_type": "fragment"
    }
   },
   "outputs": [],
   "source": [
    "print(f\"HOW THE H*** DID MINUIT/CHISQUARE 'KNOW' THIS?!?\")"
   ]
  },
  {
   "cell_type": "code",
   "execution_count": null,
   "metadata": {
    "slideshow": {
     "slide_type": "slide"
    }
   },
   "outputs": [],
   "source": [
    "# Exploring the value of the Chi2 as a function of the value of the mean:\n",
    "\n",
    "# Defining own Chi2 calculation:\n",
    "def chi2_owncalc(N, mu, sigma) :\n",
    "    y_fit = func_gauss(x, N, mu, sigma)\n",
    "    chi2 = np.sum(((y - y_fit) / sy)**2)\n",
    "    return chi2\n",
    "\n",
    "# Calculating the points along the ChiSquare curve:\n",
    "x_chi2 = np.linspace(mu-2*error_mu, mu+2*error_mu, 200)\n",
    "y_chi2 = np.zeros(len(x_chi2))\n",
    "for i in range(len(y_chi2)) :\n",
    "    y_chi2[i] = chi2_owncalc(mfit.values[0], x_chi2[i], mfit.values[2])\n",
    "\n",
    "chi2min = np.min(y_chi2)\n",
    "print(f\"  The minimal Chi2 value is: {chi2min:5.2f}\")"
   ]
  },
  {
   "cell_type": "code",
   "execution_count": null,
   "metadata": {
    "slideshow": {
     "slide_type": "subslide"
    }
   },
   "outputs": [],
   "source": [
    "fig3, ax3 = plt.subplots(figsize=(14, 6))\n",
    "ax3.plot(x_chi2, y_chi2, '-', color='blue', label='Chi2 value')\n",
    "ax3.set(xlabel=\"Values of the mean estimate\", ylabel=\"Chi2 value\", title=\"\")\n",
    "ax3.legend(loc='upper right', fontsize=24);"
   ]
  },
  {
   "cell_type": "code",
   "execution_count": null,
   "metadata": {
    "slideshow": {
     "slide_type": "slide"
    }
   },
   "outputs": [],
   "source": [
    "fig3, ax3 = plt.subplots(figsize=(14, 6))\n",
    "ax3.plot(x_chi2, y_chi2, '-', color='blue', label='Chi2 value')\n",
    "ax3.set(xlabel=\"Values of the mean estimate\", ylabel=\"Chi2 value\", title=\"\")\n",
    "ax3.legend(loc='upper right', fontsize=24)\n",
    "\n",
    "# Draw horizontal lines at minimum Chi2 and minimum Chi2+1:\n",
    "plt.axhline(y=chi2min); plt.axhline(y=chi2min+1)\n",
    "\n",
    "# Draw vertical lines where the Chi2 reaches the minimum Chi2+1:\n",
    "x_chi2min = mfit.values[1]\n",
    "dx        = mfit.errors[1]    # X-value at Chi2+1\n",
    "plt.plot([x_chi2min-dx, x_chi2min-dx], [chi2min, chi2min+2], 'r', linewidth=2)\n",
    "plt.plot([x_chi2min,    x_chi2min],    [chi2min, chi2min+2], 'r', linewidth=2)\n",
    "plt.plot([x_chi2min+dx, x_chi2min+dx], [chi2min, chi2min+2], 'r', linewidth=2)\n",
    "plt.show()"
   ]
  },
  {
   "cell_type": "code",
   "execution_count": null,
   "metadata": {},
   "outputs": [],
   "source": [
    "! jupyter nbconvert --to slides --SlidesExporter.reveal_scroll=True TheChiSquareMiracle_original.ipynb"
   ]
  }
 ],
 "metadata": {
  "celltoolbar": "Slideshow",
  "executable": "/usr/bin/env python",
  "kernelspec": {
   "display_name": "Python 3 (ipykernel)",
   "language": "python",
   "name": "python3"
  },
  "language_info": {
   "codemirror_mode": {
    "name": "ipython",
    "version": 3
   },
   "file_extension": ".py",
   "mimetype": "text/x-python",
   "name": "python",
   "nbconvert_exporter": "python",
   "pygments_lexer": "ipython3",
   "version": "3.13.0"
  },
  "main_language": "python"
 },
 "nbformat": 4,
 "nbformat_minor": 4
}
